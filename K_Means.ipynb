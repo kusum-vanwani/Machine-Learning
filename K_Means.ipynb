{
 "cells": [
  {
   "cell_type": "code",
   "execution_count": 1,
   "metadata": {},
   "outputs": [],
   "source": [
    "import matplotlib.pyplot as plt\n",
    "from mpl_toolkits.mplot3d import Axes3D\n",
    "from sklearn import datasets\n",
    "from sklearn.decomposition import PCA\n",
    "import pandas as pd\n",
    "import numpy as np\n",
    "from sklearn.datasets.samples_generator import make_blobs"
   ]
  },
  {
   "cell_type": "code",
   "execution_count": 2,
   "metadata": {},
   "outputs": [],
   "source": [
    "\n",
    "X, Y = make_blobs(\n",
    "    n_samples=100,\n",
    "    n_features=2,\n",
    "    centers=4,\n",
    "    cluster_std=0.6,\n",
    "    center_box=(-10.0, 10.0),\n",
    "    shuffle=True,\n",
    "    random_state=None,\n",
    ")\n"
   ]
  },
  {
   "cell_type": "code",
   "execution_count": 3,
   "metadata": {},
   "outputs": [
    {
     "data": {
      "text/plain": [
       "<matplotlib.collections.PathCollection at 0x1a171abbe0>"
      ]
     },
     "execution_count": 3,
     "metadata": {},
     "output_type": "execute_result"
    },
    {
     "data": {
      "image/png": "[encoded data removed]",
      "text/plain": [
       "<Figure size 432x288 with 1 Axes>"
      ]
     },
     "metadata": {
      "needs_background": "light"
     },
     "output_type": "display_data"
    }
   ],
   "source": [
    "plt.scatter(X[:,0], X[:,1], s=50)"
   ]
  },
  {
   "cell_type": "code",
   "execution_count": 4,
   "metadata": {},
   "outputs": [],
   "source": [
    "from sklearn.cluster import KMeans"
   ]
  },
  {
   "cell_type": "code",
   "execution_count": 5,
   "metadata": {},
   "outputs": [],
   "source": [
    "k_means =KMeans(\n",
    "    n_clusters=4,\n",
    "    init='k-means++',\n",
    "    n_init=10,\n",
    "    max_iter=300,\n",
    "    tol=0.0001,\n",
    "    precompute_distances='auto',\n",
    "    verbose=0,\n",
    "    random_state=None,\n",
    "    copy_x=True,\n",
    "    n_jobs=None,\n",
    "    algorithm='auto',\n",
    ")"
   ]
  },
  {
   "cell_type": "code",
   "execution_count": 6,
   "metadata": {},
   "outputs": [
    {
     "data": {
      "text/plain": [
       "KMeans(algorithm='auto', copy_x=True, init='k-means++', max_iter=300,\n",
       "       n_clusters=4, n_init=10, n_jobs=None, precompute_distances='auto',\n",
       "       random_state=None, tol=0.0001, verbose=0)"
      ]
     },
     "execution_count": 6,
     "metadata": {},
     "output_type": "execute_result"
    }
   ],
   "source": [
    "k_means.fit(X)"
   ]
  },
  {
   "cell_type": "code",
   "execution_count": 7,
   "metadata": {},
   "outputs": [],
   "source": [
    "y_means = k_means.predict(X)"
   ]
  },
  {
   "cell_type": "code",
   "execution_count": 8,
   "metadata": {},
   "outputs": [
    {
     "data": {
      "text/plain": [
       "array([[-4.02009316,  9.62254723],\n",
       "       [-1.74843645, -1.25560456],\n",
       "       [ 6.70739438,  4.25324367],\n",
       "       [ 4.49336491, -8.63953953]])"
      ]
     },
     "execution_count": 8,
     "metadata": {},
     "output_type": "execute_result"
    }
   ],
   "source": [
    "k_means.cluster_centers_"
   ]
  },
  {
   "cell_type": "code",
   "execution_count": 9,
   "metadata": {},
   "outputs": [
    {
     "data": {
      "text/plain": [
       "array([1, 2, 3, 0, 3, 2, 3, 0, 0, 0, 1, 1, 0, 2, 2, 3, 0, 3, 3, 0, 2, 1,\n",
       "       2, 2, 2, 0, 3, 2, 0, 3, 3, 1, 1, 0, 1, 1, 3, 3, 0, 1, 1, 0, 1, 3,\n",
       "       1, 2, 1, 1, 2, 1, 3, 0, 2, 2, 3, 3, 0, 1, 0, 1, 0, 1, 2, 2, 2, 3,\n",
       "       2, 1, 1, 0, 2, 0, 3, 0, 3, 1, 3, 2, 3, 0, 1, 2, 2, 2, 0, 2, 1, 0,\n",
       "       3, 1, 3, 1, 0, 0, 3, 3, 2, 2, 0, 3], dtype=int32)"
      ]
     },
     "execution_count": 9,
     "metadata": {},
     "output_type": "execute_result"
    }
   ],
   "source": [
    "k_means.labels_"
   ]
  },
  {
   "cell_type": "code",
   "execution_count": 10,
   "metadata": {},
   "outputs": [
    {
     "data": {
      "text/plain": [
       "array([3, 2, 0, 0, 3, 2, 3, 3, 1, 1, 3, 2, 0, 2, 0, 3, 3, 3, 0, 1, 0, 1,\n",
       "       2, 2, 2, 3, 1, 3, 3, 1, 0, 1, 0, 1, 3, 1, 2, 1, 1, 2, 0, 1, 2, 0,\n",
       "       2, 0, 1, 1, 2, 1, 0, 1, 3, 2, 0, 2, 3, 3, 3, 2, 2, 0, 3, 3, 1, 0,\n",
       "       3, 0, 2, 2])"
      ]
     },
     "execution_count": 10,
     "metadata": {},
     "output_type": "execute_result"
    }
   ],
   "source": [
    "from sklearn.model_selection import train_test_split\n",
    "\n",
    "X_train,X_test,Y_train, Y_test = train_test_split(X, Y,test_size=0.3)\n",
    "Y_train"
   ]
  },
  {
   "cell_type": "code",
   "execution_count": 11,
   "metadata": {},
   "outputs": [],
   "source": [
    "k_means.fit(X_train)\n",
    "labels = k_means.predict(X_train)\n",
    "labels_Ytest = k_means.predict(X_test)"
   ]
  },
  {
   "cell_type": "code",
   "execution_count": 12,
   "metadata": {},
   "outputs": [
    {
     "data": {
      "text/plain": [
       "<matplotlib.collections.PathCollection at 0x1a17b9a1d0>"
      ]
     },
     "execution_count": 12,
     "metadata": {},
     "output_type": "execute_result"
    },
    {
     "data": {
      "image/png": "[encoded data removed]",
      "text/plain": [
       "<Figure size 432x288 with 1 Axes>"
      ]
     },
     "metadata": {
      "needs_background": "light"
     },
     "output_type": "display_data"
    }
   ],
   "source": [
    "plt.scatter(X_train[:,0], X_train[:,1],c = labels, s= 2)\n",
    "plt.scatter(X_test[:,0], X_test[:,1],c = labels_Ytest, s= 50)\n"
   ]
  },
  {
   "cell_type": "code",
   "execution_count": 13,
   "metadata": {},
   "outputs": [
    {
     "data": {
      "text/plain": [
       "array([1, 2, 3, 3, 1, 2, 1, 1, 0, 0, 1, 2, 3, 2, 3, 1, 1, 1, 3, 0, 3, 0,\n",
       "       2, 2, 2, 1, 0, 1, 1, 0, 3, 0, 3, 0, 1, 0, 2, 0, 0, 2, 3, 0, 2, 3,\n",
       "       2, 3, 0, 0, 2, 0, 3, 0, 1, 2, 3, 2, 1, 1, 1, 2, 2, 3, 1, 1, 0, 3,\n",
       "       1, 3, 2, 2], dtype=int32)"
      ]
     },
     "execution_count": 13,
     "metadata": {},
     "output_type": "execute_result"
    }
   ],
   "source": [
    "labels"
   ]
  },
  {
   "cell_type": "code",
   "execution_count": 19,
   "metadata": {},
   "outputs": [
    {
     "data": {
      "text/plain": [
       "<matplotlib.collections.PathCollection at 0x1a18c70668>"
      ]
     },
     "execution_count": 19,
     "metadata": {},
     "output_type": "execute_result"
    },
    {
     "data": {
      "image/png": "[encoded data removed]",
      "text/plain": [
       "<Figure size 432x288 with 1 Axes>"
      ]
     },
     "metadata": {
      "needs_background": "light"
     },
     "output_type": "display_data"
    }
   ],
   "source": [
    "## Manual Implementation\n",
    "\n",
    "from sklearn.metrics import pairwise_distances_argmin\n",
    "\n",
    "def find_clusters(X, num_clusters):\n",
    "    \n",
    "\n",
    "    random_initialization = np.random.RandomState(5)\n",
    "    indexes = random_initialization.permutation(X.shape[0])[:num_clusters]\n",
    "\n",
    "    cluster_centroids = X[indexes]\n",
    "    while True: \n",
    "        labels = pairwise_distances_argmin(X,cluster_centroids)\n",
    "        newLabels = np.array([X[labels == i].mean(0) for i in range(num_clusters)])\n",
    "        if np.all(newLabels == cluster_centroids):\n",
    "            break\n",
    "        cluster_centroids = newLabels\n",
    "    return cluster_centroids, labels\n",
    "\n",
    "\n",
    "centroid, labels = find_clusters(X, 4)\n",
    "plt.scatter(X[:,0],X[:,1],c=labels)\n",
    "plt.scatter(centroid[:,0], centroid[:,1], color='red')"
   ]
  }
 ],
 "metadata": {
  "kernelspec": {
   "display_name": "Python 3",
   "language": "python",
   "name": "python3"
  },
  "language_info": {
   "codemirror_mode": {
    "name": "ipython",
    "version": 3
   },
   "file_extension": ".py",
   "mimetype": "text/x-python",
   "name": "python",
   "nbconvert_exporter": "python",
   "pygments_lexer": "ipython3",
   "version": "3.7.3"
  }
 },
 "nbformat": 4,
 "nbformat_minor": 2
}
